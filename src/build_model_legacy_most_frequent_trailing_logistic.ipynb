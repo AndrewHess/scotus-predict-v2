{
 "cells": [
  {
   "cell_type": "code",
   "execution_count": 8,
   "metadata": {
    "collapsed": false
   },
   "outputs": [],
   "source": [
    "%matplotlib inline\n",
    "\n",
    "# Imports\n",
    "import gc\n",
    "import matplotlib.pyplot as plt\n",
    "import os\n",
    "import statsmodels.stats.proportion\n",
    "\n",
    "# seaborn\n",
    "import seaborn\n",
    "seaborn.set()\n",
    "seaborn.set_style(\"darkgrid\")\n",
    "\n",
    "import sklearn.linear_model\n",
    "import sklearn.pipeline\n",
    "\n",
    "# Project imports\n",
    "from legacy_model import *"
   ]
  },
  {
   "cell_type": "code",
   "execution_count": 2,
   "metadata": {
    "collapsed": false
   },
   "outputs": [
    {
     "name": "stdout",
     "output_type": "stream",
     "text": [
      "Loading from HDF5 cache\n"
     ]
    }
   ],
   "source": [
    "# Get raw data\n",
    "raw_data = get_raw_scdb_data(\"../data/input/SCDB_Legacy_01_justiceCentered_Citation.csv\")\n",
    "\n",
    "# Get feature data\n",
    "if os.path.exists(\"../data/output/feature_data.hdf.gz\"):\n",
    "    print(\"Loading from HDF5 cache\")\n",
    "    feature_df = pandas.read_hdf(\"../data/output/feature_data.hdf.gz\", \"root\")\n",
    "else:\n",
    "    # Process\n",
    "    feature_df = preprocess_raw_data(raw_data, include_direction=True)\n",
    "    \n",
    "    # Write out feature datas\n",
    "    feature_df.to_hdf(\"../data/output/feature_data.hdf.gz\", \"root\", complevel=6, complib=\"zlib\")"
   ]
  },
  {
   "cell_type": "code",
   "execution_count": 3,
   "metadata": {
    "collapsed": true
   },
   "outputs": [],
   "source": [
    "# Downsample to float\n",
    "feature_df = feature_df.astype(numpy.float16)"
   ]
  },
  {
   "cell_type": "code",
   "execution_count": 4,
   "metadata": {
    "collapsed": false
   },
   "outputs": [
    {
     "data": {
      "text/plain": [
       "1928"
      ]
     },
     "execution_count": 4,
     "metadata": {},
     "output_type": "execute_result"
    }
   ],
   "source": [
    "# Remove term\n",
    "nonterm_features = [f for f in feature_df.columns if not f.startswith(\"term_\")]\n",
    "original_feature_df = feature_df.copy()\n",
    "feature_df = original_feature_df.loc[:, nonterm_features].copy()\n",
    "gc.collect()"
   ]
  },
  {
   "cell_type": "code",
   "execution_count": 5,
   "metadata": {
    "collapsed": false
   },
   "outputs": [
    {
     "name": "stdout",
     "output_type": "stream",
     "text": [
      "(249793, 64)\n",
      "(249793, 1501)\n"
     ]
    }
   ],
   "source": [
    "# Output some diagnostics on features\n",
    "print(raw_data.shape)\n",
    "print(feature_df.shape)\n",
    "assert(raw_data.shape[0] == feature_df.shape[0])"
   ]
  },
  {
   "cell_type": "code",
   "execution_count": 6,
   "metadata": {
    "collapsed": false
   },
   "outputs": [
    {
     "name": "stdout",
     "output_type": "stream",
     "text": [
      "    justice_outcome_disposition\n",
      " 0                       114780\n",
      " 1                        94505\n",
      "-1                        40508\n",
      "    justice_outcome_disposition\n",
      " 0                     0.459500\n",
      " 1                     0.378333\n",
      "-1                     0.162166\n"
     ]
    }
   ],
   "source": [
    "# Output basic quantities for sample\n",
    "print(pandas.DataFrame(raw_data[\"justice_outcome_disposition\"].value_counts()))\n",
    "print(pandas.DataFrame(raw_data[\"justice_outcome_disposition\"].value_counts(normalize=True)))"
   ]
  },
  {
   "cell_type": "code",
   "execution_count": null,
   "metadata": {
    "collapsed": false
   },
   "outputs": [
    {
     "name": "stdout",
     "output_type": "stream",
     "text": [
      "Term: 1841\n"
     ]
    }
   ],
   "source": [
    "# Reset output file timestamp per run\n",
    "file_timestamp = datetime.datetime.now().strftime(\"%Y%m%d%H%M%S\")\n",
    "\n",
    "# Reset seed per run\n",
    "numpy.random.seed(0)\n",
    "\n",
    "# Setup training time period\n",
    "dummy_window = 10\n",
    "min_training_years = 50\n",
    "term_range = range(raw_data[\"term\"].min() + min_training_years,\n",
    "                   raw_data[\"term\"].max()+1)\n",
    "\n",
    "# Number of years between \"forest fires\"\n",
    "reset_interval = 9999\n",
    "\n",
    "# Setup model\n",
    "m = None\n",
    "term_count = 0\n",
    "feature_importance_df = pandas.DataFrame()\n",
    "\n",
    "for term in term_range:\n",
    "    # Diagnostic output\n",
    "    print(\"Term: {0}\".format(term))\n",
    "    term_count += 1\n",
    "    \n",
    "    # Setup train and test periods\n",
    "    train_index = (raw_data.loc[:, \"term\"] < term).values\n",
    "    dummy_train_index = ((raw_data.loc[:, \"term\"] < term) & (raw_data.loc[:, \"term\"] >= (term-dummy_window))).values\n",
    "    test_index = (raw_data.loc[:, \"term\"] == term).values\n",
    "    \n",
    "    # Setup train data\n",
    "    feature_data_train = feature_df.loc[train_index, :]\n",
    "    target_data_train = (raw_data.loc[train_index, \"justice_outcome_disposition\"]).astype(int)\n",
    "\n",
    "    # Setup test data\n",
    "    feature_data_test = feature_df.loc[test_index, :]\n",
    "    target_data_test = (raw_data.loc[test_index, \"justice_outcome_disposition\"]).astype(int)\n",
    "        \n",
    "    # Check if we should rebuild the model based on changing natural court\n",
    "    logistic = sklearn.linear_model.LogisticRegressionCV()\n",
    "    \n",
    "    # Fit the forest model\n",
    "    logistic.fit(feature_data_train,\n",
    "          target_data_train)\n",
    "    \n",
    "    # Fit the \"dummy\" model\n",
    "    d = sklearn.dummy.DummyClassifier(strategy=\"most_frequent\")\n",
    "    d.fit(feature_df.loc[dummy_train_index, :],\n",
    "          (raw_data.loc[dummy_train_index, \"justice_outcome_disposition\"]).astype(int))\n",
    "    \n",
    "    # Perform forest predictions\n",
    "    raw_data.loc[test_index, \"rf_predicted\"] = logistic.predict(feature_data_test)\n",
    "    \n",
    "    # Store scores per class\n",
    "    scores = logistic.predict_proba(feature_data_test)\n",
    "    raw_data.loc[test_index, \"rf_predicted_score_other\"] = scores[:, 0]\n",
    "    raw_data.loc[test_index, \"rf_predicted_score_affirm\"] = scores[:, 1]\n",
    "    raw_data.loc[test_index, \"rf_predicted_score_reverse\"] = scores[:, 2]\n",
    "    \n",
    "    # Store dummy predictions\n",
    "    raw_data.loc[test_index, \"dummy_predicted\"] = d.predict(feature_data_test)\n",
    "    \n",
    "    #  Clear\n",
    "    del feature_data_train\n",
    "    del feature_data_test\n",
    "    del target_data_train\n",
    "    del target_data_test\n",
    "    gc.collect()"
   ]
  },
  {
   "cell_type": "code",
   "execution_count": 11,
   "metadata": {
    "collapsed": false
   },
   "outputs": [
    {
     "name": "stdout",
     "output_type": "stream",
     "text": [
      "RF model\n",
      "================================\n",
      "             precision    recall  f1-score   support\n",
      "\n",
      "         -1       0.78      0.58      0.67     37465\n",
      "          0       0.59      0.75      0.66    110640\n",
      "          1       0.60      0.46      0.52     91381\n",
      "\n",
      "avg / total       0.62      0.62      0.61    239486\n",
      "\n",
      "[[21906 11229  4330]\n",
      " [ 3702 83256 23682]\n",
      " [ 2534 46459 42388]]\n",
      "0.616111171425\n",
      "================================\n",
      "\n",
      "Dummy model\n",
      "================================\n",
      "             precision    recall  f1-score   support\n",
      "\n",
      "         -1       0.33      0.01      0.03     37465\n",
      "          0       0.52      0.76      0.62    110640\n",
      "          1       0.57      0.47      0.52     91381\n",
      "\n",
      "avg / total       0.51      0.53      0.49    239486\n",
      "\n",
      "[[  495 29856  7114]\n",
      " [  618 84076 25946]\n",
      " [  398 47700 43283]]\n",
      "0.533868368088\n",
      "================================\n",
      "\n"
     ]
    }
   ],
   "source": [
    "# Evaluation range\n",
    "evaluation_index = raw_data.loc[:, \"term\"].isin(term_range)\n",
    "target_actual = (raw_data.loc[evaluation_index, \"justice_outcome_disposition\"]).astype(int)\n",
    "target_predicted = raw_data.loc[evaluation_index, \"rf_predicted\"].astype(int)\n",
    "target_dummy = raw_data.loc[evaluation_index, \"dummy_predicted\"].astype(int)\n",
    "raw_data.loc[:, \"rf_correct\"] = numpy.nan\n",
    "raw_data.loc[:, \"dummy_correct\"] = numpy.nan\n",
    "raw_data.loc[evaluation_index, \"rf_correct\"] = (target_actual == target_predicted).astype(float)\n",
    "raw_data.loc[evaluation_index, \"dummy_correct\"] = (target_actual == target_dummy).astype(float)\n",
    "\n",
    "# Compare model\n",
    "print(\"RF model\")\n",
    "print(\"=\"*32)\n",
    "print(sklearn.metrics.classification_report(target_actual, target_predicted))\n",
    "print(sklearn.metrics.confusion_matrix(target_actual, target_predicted))\n",
    "print(sklearn.metrics.accuracy_score(target_actual, target_predicted))\n",
    "print(\"=\"*32)\n",
    "print(\"\")\n",
    "\n",
    "# Dummy model\n",
    "print(\"Dummy model\")\n",
    "print(\"=\"*32)\n",
    "print(sklearn.metrics.classification_report(target_actual, target_dummy))\n",
    "print(sklearn.metrics.confusion_matrix(target_actual, target_dummy))\n",
    "print(sklearn.metrics.accuracy_score(target_actual, target_dummy))\n",
    "print(\"=\"*32)\n",
    "print(\"\")"
   ]
  },
  {
   "cell_type": "code",
   "execution_count": 12,
   "metadata": {
    "collapsed": false
   },
   "outputs": [
    {
     "data": {
      "text/plain": [
       "<matplotlib.legend.Legend at 0x7f40fb534940>"
      ]
     },
     "execution_count": 12,
     "metadata": {},
     "output_type": "execute_result"
    },
    {
     "data": {
      "image/png": "[encoded data removed]",
      "text/plain": [
       "<matplotlib.figure.Figure at 0x7f41507caa20>"
      ]
     },
     "metadata": {},
     "output_type": "display_data"
    }
   ],
   "source": [
    "# Setup time series\n",
    "rf_correct_ts = raw_data.loc[evaluation_index, :].groupby(\"term\")[\"rf_correct\"].mean()\n",
    "dummy_correct_ts = raw_data.loc[evaluation_index, :].groupby(\"term\")[\"dummy_correct\"].mean()\n",
    "\n",
    "# Plot all accuracies\n",
    "f = plt.figure(figsize=(16, 12))\n",
    "plt.plot(rf_correct_ts.index, rf_correct_ts,\n",
    "         marker='o', alpha=0.75)\n",
    "plt.plot(dummy_correct_ts.index, dummy_correct_ts,\n",
    "         marker='>', alpha=0.75)\n",
    "plt.legend(('Random forest', 'Dummy'))"
   ]
  },
  {
   "cell_type": "code",
   "execution_count": null,
   "metadata": {
    "collapsed": false
   },
   "outputs": [],
   "source": [
    "# Setup time series\n",
    "rf_spread_ts = rf_correct_ts - dummy_correct_ts\n",
    "\n",
    "# Plot all accuracies\n",
    "f = plt.figure(figsize=(16, 12))\n",
    "plt.bar(rf_spread_ts.index, rf_spread_ts,\n",
    "        alpha=0.75)\n",
    "plt.xlabel(\"Term\")\n",
    "plt.ylabel(\"Spread (%)\")\n",
    "plt.title(\"Spread over dummy model for justice accuracy\")"
   ]
  },
  {
   "cell_type": "code",
   "execution_count": null,
   "metadata": {
    "collapsed": false
   },
   "outputs": [],
   "source": [
    "# Feature importance\n",
    "last_feature_importance_df = pandas.DataFrame(list(zip(feature_df.columns, m.feature_importances_)),\n",
    "                                         columns=[\"feature\", \"importance\"])\n",
    "last_feature_importance_df.sort_values([\"importance\"], ascending=False).head(10)"
   ]
  },
  {
   "cell_type": "code",
   "execution_count": null,
   "metadata": {
    "collapsed": false
   },
   "outputs": [],
   "source": [
    "# Output stats\n",
    "print(\"t-test:\")\n",
    "print(\"Uncalibrated:\")\n",
    "print(scipy.stats.ttest_rel(rf_correct_ts.values,\n",
    "                   dummy_correct_ts.values))\n",
    "\n",
    "print(\"=\" * 16)\n",
    "print(\"ranksum-test:\")\n",
    "print(\"Uncalibrated:\")\n",
    "print(scipy.stats.ranksums(rf_correct_ts.values,\n",
    "                   dummy_correct_ts.values))\n",
    "\n",
    "print(\"=\" * 16)\n",
    "print(\"Binomial:\")\n",
    "print(statsmodels.stats.proportion.binom_test(raw_data.loc[evaluation_index, \"rf_correct\"].sum(),\n",
    "                                              raw_data.loc[evaluation_index, \"rf_correct\"].shape[0],\n",
    "                                              raw_data.loc[evaluation_index, \"dummy_correct\"].mean(),\n",
    "                                              alternative=\"larger\"))"
   ]
  },
  {
   "cell_type": "code",
   "execution_count": null,
   "metadata": {
    "collapsed": true
   },
   "outputs": [],
   "source": [
    "# Get case-level prediction\n",
    "#scdb_data.loc[evaluation_index, \"rf_predicted_case\"] = \n",
    "rf_predicted_case = pandas.DataFrame(raw_data.loc[evaluation_index, :]\\\n",
    "    .groupby([\"docketId\"])[\"rf_predicted\"]\\\n",
    "    .agg(lambda x: x.value_counts().index[0]))\n",
    "rf_predicted_case.columns = [\"rf_predicted_case\"]\n",
    "\n",
    "dummy_predicted_case = pandas.DataFrame(raw_data.loc[evaluation_index, :]\\\n",
    "    .groupby([\"docketId\"])[\"dummy_predicted\"]\\\n",
    "    .agg(lambda x: x.value_counts().index[0]))\n",
    "dummy_predicted_case.columns = [\"dummy_predicted_case\"]\n",
    "\n",
    "# Set DFs\n",
    "rf_predicted_case = raw_data[[\"docketId\", \"case_outcome_disposition\", \"rf_predicted\"]].join(rf_predicted_case, on=\"docketId\")\n",
    "dumy_predicted_case = raw_data[[\"docketId\", \"dummy_predicted\"]].join(dummy_predicted_case, on=\"docketId\")\n",
    "\n",
    "raw_data.loc[:, \"rf_predicted_case\"] = rf_predicted_case\n",
    "raw_data.loc[:, \"dummy_predicted_case\"] = dumy_predicted_case"
   ]
  },
  {
   "cell_type": "code",
   "execution_count": null,
   "metadata": {
    "collapsed": false
   },
   "outputs": [],
   "source": [
    "# Output case distribution\n",
    "case_outcomes = raw_data.groupby([\"docketId\"])[\"case_outcome_disposition\"].apply(lambda x: x.mode())\n",
    "case_outcomes = case_outcomes.apply(lambda x: int(x) if type(x) in [numpy.float64] else None)\n",
    "case_outcomes  = (case_outcomes).astype(int)\n",
    "print(case_outcomes.value_counts())\n",
    "print(case_outcomes.value_counts(normalize=True))"
   ]
  },
  {
   "cell_type": "code",
   "execution_count": null,
   "metadata": {
    "collapsed": false
   },
   "outputs": [],
   "source": [
    "# Output comparison\n",
    "# Evaluation range\n",
    "evaluation_index = raw_data.loc[:, \"term\"].isin(term_range) & -raw_data.loc[:, \"case_outcome_disposition\"].isnull()\n",
    "target_actual = (raw_data.loc[evaluation_index, \"case_outcome_disposition\"] > 0).astype(int)\n",
    "target_predicted = (raw_data.loc[evaluation_index, \"rf_predicted_case\"] > 0).astype(int)\n",
    "target_dummy = (raw_data.loc[evaluation_index, \"dummy_predicted_case\"] > 0).astype(int)\n",
    "\n",
    "raw_data.loc[:, \"rf_correct_case\"] = numpy.nan\n",
    "raw_data.loc[:, \"dummy_correct_case\"] = numpy.nan\n",
    "raw_data.loc[evaluation_index, \"rf_correct_case\"] = (target_actual == target_predicted).astype(float)\n",
    "raw_data.loc[evaluation_index, \"dummy_correct_case\"] = (target_actual == target_dummy).astype(float)\n",
    "\n",
    "# Compare model\n",
    "print(\"RF model\")\n",
    "print(\"=\"*32)\n",
    "print(sklearn.metrics.classification_report(target_actual, target_predicted))\n",
    "print(sklearn.metrics.confusion_matrix(target_actual, target_predicted))\n",
    "print(sklearn.metrics.accuracy_score(target_actual, target_predicted))\n",
    "print(\"=\"*32)\n",
    "print(\"\")\n",
    "\n",
    "# Dummy model\n",
    "print(\"Dummy model\")\n",
    "print(\"=\"*32)\n",
    "print(sklearn.metrics.classification_report(target_actual, target_dummy))\n",
    "print(sklearn.metrics.confusion_matrix(target_actual, target_dummy))\n",
    "print(sklearn.metrics.accuracy_score(target_actual, target_dummy))\n",
    "print(\"=\"*32)\n",
    "print(\"\")"
   ]
  },
  {
   "cell_type": "code",
   "execution_count": null,
   "metadata": {
    "collapsed": false
   },
   "outputs": [],
   "source": [
    "# Setup time series\n",
    "rf_correct_case_ts = raw_data.loc[evaluation_index, :].groupby(\"term\")[\"rf_correct_case\"].mean()\n",
    "dummy_correct_case_ts = raw_data.loc[evaluation_index, :].groupby(\"term\")[\"dummy_correct_case\"].mean()\n",
    "\n",
    "# Plot all accuracies\n",
    "f = plt.figure(figsize=(16, 12))\n",
    "plt.plot(rf_correct_case_ts.index, rf_correct_case_ts,\n",
    "         marker='o', alpha=0.75)\n",
    "plt.plot(dummy_correct_case_ts.index, dummy_correct_case_ts,\n",
    "         marker='>', alpha=0.75)\n",
    "plt.legend(('Random forest', 'Dummy'))"
   ]
  },
  {
   "cell_type": "code",
   "execution_count": null,
   "metadata": {
    "collapsed": false
   },
   "outputs": [],
   "source": [
    "# Setup time series\n",
    "rf_spread_case_ts = rf_correct_case_ts - dummy_correct_case_ts\n",
    "\n",
    "# Plot all accuracies\n",
    "f = plt.figure(figsize=(16, 12))\n",
    "plt.bar(rf_spread_case_ts.index, rf_spread_case_ts,\n",
    "        alpha=0.75)\n",
    "plt.xlabel(\"Term\")\n",
    "plt.ylabel(\"Spread (%)\")\n",
    "plt.title(\"Spread over dummy model for case accuracy\")"
   ]
  },
  {
   "cell_type": "code",
   "execution_count": null,
   "metadata": {
    "collapsed": false
   },
   "outputs": [],
   "source": [
    "# Setup time series\n",
    "rf_spread_case_dir_ts = pandas.expanding_sum(numpy.sign(rf_spread_case_ts))\n",
    "\n",
    "# Plot all accuracies\n",
    "f = plt.figure(figsize=(16, 12))\n",
    "plt.plot(rf_spread_case_dir_ts.index, rf_spread_case_dir_ts,\n",
    "        alpha=0.75)"
   ]
  },
  {
   "cell_type": "code",
   "execution_count": null,
   "metadata": {
    "collapsed": false
   },
   "outputs": [],
   "source": [
    "# Output stats\n",
    "print(\"t-test:\")\n",
    "print(\"Uncalibrated:\")\n",
    "print(scipy.stats.ttest_rel(rf_correct_case_ts.values,\n",
    "                   dummy_correct_case_ts.values))\n",
    "\n",
    "print(\"=\" * 16)\n",
    "print(\"ranksum-test:\")\n",
    "print(\"Uncalibrated:\")\n",
    "print(scipy.stats.ranksums(rf_correct_case_ts.values,\n",
    "                   dummy_correct_case_ts.values))\n",
    "\n",
    "print(\"=\" * 16)\n",
    "print(\"Binomial:\")\n",
    "case_accuracy_data = raw_data.loc[evaluation_index, [\"docketId\", \"rf_correct_case\", \"dummy_correct_case\"]].drop_duplicates()\n",
    "print(statsmodels.stats.proportion.binom_test(case_accuracy_data[\"rf_correct_case\"].sum(),\n",
    "                                              case_accuracy_data[\"rf_correct_case\"].shape[0],\n",
    "                                              case_accuracy_data[\"dummy_correct_case\"].mean(),\n",
    "                                              alternative=\"larger\"))"
   ]
  },
  {
   "cell_type": "code",
   "execution_count": null,
   "metadata": {
    "collapsed": false
   },
   "outputs": [],
   "source": [
    "raw_data.loc[raw_data.loc[:, \"caseName\"] == \"MIRANDA v. ARIZONA\", \n",
    "              [\"caseName\", \"justiceName\", \"case_outcome_disposition\", \"justice_outcome_disposition\",\n",
    "              \"rf_predicted\", \"rf_predicted_score_affirm\", \"rf_predicted_score_reverse\", \"rf_correct_case\", \"dummy_correct_case\"]].T"
   ]
  },
  {
   "cell_type": "code",
   "execution_count": null,
   "metadata": {
    "collapsed": false
   },
   "outputs": [],
   "source": [
    "# Output file data\n",
    "raw_data.to_csv(\"../data/output/scdb_legacy_raw_data_most_frequent_trailing_logistic_{0}.csv\".format(file_timestamp))\n",
    "case_accuracy_data.to_csv(\"../data/output/scdb_legacy_case_data_most_frequent_trailing_logistic_{0}.csv\".format(file_timestamp))\n",
    "feature_importance_df.to_csv(\"../data/output/scdb_legacy_last_features_most_frequent_trailing_logistic_{0}.csv\".format(file_timestamp))"
   ]
  },
  {
   "cell_type": "code",
   "execution_count": null,
   "metadata": {
    "collapsed": true
   },
   "outputs": [],
   "source": [
    "# Setup feature importance TS\n",
    "feature_importance_ts = feature_importance_df.groupby([\"term\", \"feature\"])[\"importance\"].mean().unstack()\n",
    "feature_importance_ts.to_csv(\"../data/output/scdb_legacy_feature_weight_ts_most_frequent_trailing_logistic_{0}.csv\".format(file_timestamp))"
   ]
  },
  {
   "cell_type": "markdown",
   "metadata": {
    "collapsed": true
   },
   "source": [
    "## Justice Vote Confusion Matrix"
   ]
  },
  {
   "cell_type": "code",
   "execution_count": null,
   "metadata": {
    "collapsed": false
   },
   "outputs": [],
   "source": [
    "# Evaluation range\n",
    "evaluation_index = raw_data.loc[:, \"term\"].isin(term_range)\n",
    "target_actual = (raw_data.loc[evaluation_index, \"justice_outcome_disposition\"]).astype(int)\n",
    "target_predicted = raw_data.loc[evaluation_index, \"rf_predicted\"].astype(int)\n",
    "target_dummy = raw_data.loc[evaluation_index, \"dummy_predicted\"].astype(int)\n",
    "raw_data.loc[:, \"rf_correct\"] = numpy.nan\n",
    "raw_data.loc[:, \"dummy_correct\"] = numpy.nan\n",
    "raw_data.loc[evaluation_index, \"rf_correct\"] = (target_actual == target_predicted).astype(float)\n",
    "raw_data.loc[evaluation_index, \"dummy_correct\"] = (target_actual == target_dummy).astype(float)\n",
    "\n",
    "# Compare model\n",
    "print(\"RF model\")\n",
    "print(\"=\"*32)\n",
    "justice_confusion_df = pandas.DataFrame(sklearn.metrics.confusion_matrix(target_actual, target_predicted), columns=[\"Other\", \"Affirm\", \"Reverse\"], index=[\"Other\", \"Affirm\", \"Reverse\"])\n",
    "justice_confusion_df"
   ]
  },
  {
   "cell_type": "code",
   "execution_count": null,
   "metadata": {
    "collapsed": false
   },
   "outputs": [],
   "source": [
    "print(justice_confusion_df.to_latex())"
   ]
  },
  {
   "cell_type": "markdown",
   "metadata": {},
   "source": [
    "## Case Vote Confusion Matrix"
   ]
  },
  {
   "cell_type": "code",
   "execution_count": null,
   "metadata": {
    "collapsed": false
   },
   "outputs": [],
   "source": [
    "# Output comparison\n",
    "# Evaluation range\n",
    "evaluation_index = raw_data.loc[:, \"term\"].isin(term_range) & -raw_data.loc[:, \"case_outcome_disposition\"].isnull()\n",
    "target_actual = (raw_data.loc[evaluation_index, \"case_outcome_disposition\"] > 0).astype(int)\n",
    "target_predicted = (raw_data.loc[evaluation_index, \"rf_predicted_case\"] > 0).astype(int)\n",
    "target_dummy = (raw_data.loc[evaluation_index, \"dummy_predicted_case\"] > 0).astype(int)\n",
    "\n",
    "raw_data.loc[:, \"rf_correct_case\"] = numpy.nan\n",
    "raw_data.loc[:, \"dummy_correct_case\"] = numpy.nan\n",
    "raw_data.loc[evaluation_index, \"rf_correct_case\"] = (target_actual == target_predicted).astype(float)\n",
    "raw_data.loc[evaluation_index, \"dummy_correct_case\"] = (target_actual == target_dummy).astype(float)\n",
    "\n",
    "# Compare model\n",
    "print(\"RF model\")\n",
    "print(\"=\"*32)\n",
    "case_confusion_df = pandas.DataFrame(sklearn.metrics.confusion_matrix(target_actual, target_predicted), columns=[\"Affirm\", \"Reverse\"], index=[\"Affirm\", \"Reverse\"])\n",
    "case_confusion_df"
   ]
  },
  {
   "cell_type": "code",
   "execution_count": null,
   "metadata": {
    "collapsed": false
   },
   "outputs": [],
   "source": [
    "print(case_confusion_df.to_latex())"
   ]
  },
  {
   "cell_type": "markdown",
   "metadata": {},
   "source": [
    "## Justice Vote Performance against Base Model"
   ]
  },
  {
   "cell_type": "code",
   "execution_count": null,
   "metadata": {
    "collapsed": false
   },
   "outputs": [],
   "source": [
    "# Output stats\n",
    "print(\"t-test:\")\n",
    "print(\"Uncalibrated:\")\n",
    "print(scipy.stats.ttest_rel(rf_correct_case_ts.values,\n",
    "                   dummy_correct_case_ts.values))\n",
    "\n",
    "print(\"=\" * 16)\n",
    "print(\"ranksum-test:\")\n",
    "print(\"Uncalibrated:\")\n",
    "print(scipy.stats.ranksums(rf_correct_case_ts.values,\n",
    "                   dummy_correct_case_ts.values))\n",
    "\n",
    "print(\"=\" * 16)\n",
    "print(\"Binomial:\")\n",
    "case_accuracy_data = raw_data.loc[evaluation_index, [\"docketId\", \"rf_correct_case\", \"dummy_correct_case\"]].drop_duplicates()\n",
    "print(statsmodels.stats.proportion.binom_test(case_accuracy_data[\"rf_correct_case\"].sum(),\n",
    "                                              case_accuracy_data[\"rf_correct_case\"].shape[0],\n",
    "                                              case_accuracy_data[\"dummy_correct_case\"].mean(),\n",
    "                                              alternative=\"larger\"))"
   ]
  },
  {
   "cell_type": "markdown",
   "metadata": {},
   "source": [
    "## Case Vote Performance against Base Model"
   ]
  },
  {
   "cell_type": "code",
   "execution_count": null,
   "metadata": {
    "collapsed": false
   },
   "outputs": [],
   "source": [
    "# Output stats\n",
    "print(\"t-test:\")\n",
    "print(\"Uncalibrated:\")\n",
    "print(scipy.stats.ttest_rel(rf_correct_case_ts.values,\n",
    "                   dummy_correct_case_ts.values))\n",
    "\n",
    "print(\"=\" * 16)\n",
    "print(\"ranksum-test:\")\n",
    "print(\"Uncalibrated:\")\n",
    "print(scipy.stats.ranksums(rf_correct_case_ts.values,\n",
    "                   dummy_correct_case_ts.values))\n",
    "\n",
    "print(\"=\" * 16)\n",
    "print(\"Binomial:\")\n",
    "case_accuracy_data = raw_data.loc[evaluation_index, [\"docketId\", \"rf_correct_case\", \"dummy_correct_case\"]].drop_duplicates()\n",
    "print(statsmodels.stats.proportion.binom_test(case_accuracy_data[\"rf_correct_case\"].sum(),\n",
    "                                              case_accuracy_data[\"rf_correct_case\"].shape[0],\n",
    "                                              case_accuracy_data[\"dummy_correct_case\"].mean(),\n",
    "                                              alternative=\"larger\"))"
   ]
  },
  {
   "cell_type": "markdown",
   "metadata": {},
   "source": [
    "## Feature Weights"
   ]
  },
  {
   "cell_type": "code",
   "execution_count": null,
   "metadata": {
    "collapsed": false
   },
   "outputs": [],
   "source": [
    "# Get last step weights\n",
    "num_feature_rows = 3\n",
    "num_feature_cols = 3\n",
    "num_feature_total = num_feature_rows * num_feature_cols\n",
    "last_step = feature_importance_ts.tail(1).T\n",
    "last_step_top_features = last_step.sort_values(last_step.columns[0], ascending=False).head(num_feature_total).index.tolist()\n",
    "\n",
    "# Get axis data\n",
    "min_term = feature_importance_df[\"term\"].min()\n",
    "max_term = feature_importance_df[\"term\"].max()\n",
    "min_val = feature_importance_df[\"importance\"].min()\n",
    "max_val = feature_importance_df[\"importance\"].max()\n",
    "\n",
    "# Setup grid\n",
    "#f = plt.figure(figsize=(16, 16))\n",
    "f, ax = plt.subplots(num_feature_rows, num_feature_cols, figsize=(16,16))\n",
    "\n",
    "for i in range(len(last_step_top_features)):\n",
    "    # Get iteration indices\n",
    "    row_id = int(i / num_feature_cols)\n",
    "    col_id = (i % num_feature_cols)\n",
    "    feature_name = last_step_top_features[i]\n",
    "    \n",
    "    # Setup title and data\n",
    "    ax[row_id, col_id].set_title(\"{0}\".format(feature_name), fontsize=10)\n",
    "    ts_data = feature_importance_ts.loc[:, feature_name]\n",
    "    \n",
    "    # Plot fill and marker\n",
    "    ax[row_id, col_id].fill_between(ts_data.index, 0, ts_data, alpha=0.25, color=\"green\")\n",
    "    ax[row_id, col_id].plot(ts_data.index, ts_data, marker=\"o\", markersize=3, linewidth=2, color=\"#898989\", alpha=0.75)\n",
    "    \n",
    "    # Setup axes\n",
    "    ax[row_id, col_id].set_xlim(min_term, max_term)\n",
    "    ax[row_id, col_id].set_xticks(numpy.arange(min_term, max_term, 10))\n",
    "    ax[row_id, col_id].set_xticklabels(map(str, numpy.arange(min_term, max_term, 10)), rotation=90)\n",
    "    ax[row_id, col_id].set_ylim(min_val, max_val)\n",
    "    ax[row_id, col_id].set_yticks(numpy.round(numpy.linspace(min_val, max_val, 4), 3))\n",
    "\n",
    "# Save as PNG, PDF, and SVG\n",
    "plt.savefig(\"../figures/figure_feature_importance_ts_trailing_{0}.png\".format(file_timestamp))\n",
    "plt.savefig(\"../figures/figure_feature_importance_ts_trailing_{0}.pdf\".format(file_timestamp))\n",
    "plt.savefig(\"../figures/figure_feature_importance_ts_trailing_{0}.svg\".format(file_timestamp))"
   ]
  },
  {
   "cell_type": "code",
   "execution_count": null,
   "metadata": {
    "collapsed": true
   },
   "outputs": [],
   "source": [
    "# Setup colormap for all positive-negative heatmaps\n",
    "red_green_cmap = seaborn.diverging_palette(h_neg=10, h_pos=135, as_cmap=True)"
   ]
  },
  {
   "cell_type": "code",
   "execution_count": null,
   "metadata": {
    "collapsed": false
   },
   "outputs": [],
   "source": [
    "# Top features\n",
    "num_feature_total = 20\n",
    "last_step = feature_importance_ts.tail(1).T\n",
    "last_step_top_features = last_step.sort_values(last_step.columns[0], ascending=False).head(num_feature_total).index.tolist()\n",
    "\n",
    "# Get axis data\n",
    "min_term = feature_importance_df[\"term\"].min()\n",
    "max_term = feature_importance_df[\"term\"].max()\n",
    "min_val = feature_importance_df[\"importance\"].min()\n",
    "max_val = feature_importance_df[\"importance\"].max()\n",
    "\n",
    "# Heatmap\n",
    "f = plt.figure(figsize=((max_term - min_term) / 4, num_feature_total / 4))\n",
    "seaborn.heatmap(feature_importance_ts.loc[:, last_step_top_features].T, vmin=0, vmax=max_val, cmap=red_green_cmap)\n",
    "plt.xlabel(\"Term\")\n",
    "plt.ylabel(\"Feature\")\n",
    "\n",
    "# Save as PNG, PDF, and SVG\n",
    "plt.savefig(\"../figures/figure_feature_importance_heatmap_trailing_{0}.png\".format(file_timestamp))\n",
    "plt.savefig(\"../figures/figure_feature_importance_heatmap_trailing_{0}.pdf\".format(file_timestamp))\n",
    "plt.savefig(\"../figures/figure_feature_importance_heatmap_trailing_{0}.svg\".format(file_timestamp))"
   ]
  },
  {
   "cell_type": "markdown",
   "metadata": {},
   "source": [
    "## Justice Accuracy Heatmap"
   ]
  },
  {
   "cell_type": "code",
   "execution_count": null,
   "metadata": {
    "collapsed": false
   },
   "outputs": [],
   "source": [
    "# Setup grouping over evaluation index\n",
    "evaluation_index = raw_data.loc[:, \"term\"].isin(term_range) & -raw_data.loc[:, \"case_outcome_disposition\"].isnull()\n",
    "justice_order = raw_data.loc[evaluation_index, :].groupby([\"justiceName\"])[\"term\"].min().sort_values().index.tolist()\n",
    "justice_accuracy_ts = raw_data.loc[evaluation_index, :].groupby([\"term\", \"justiceName\"])[\"rf_correct\"].mean().unstack() - \\\n",
    "    raw_data.loc[evaluation_index, :].groupby([\"term\", \"justiceName\"])[\"dummy_correct\"].mean().unstack()\n",
    "min_term = min(justice_accuracy_ts.index)\n",
    "max_term = max(justice_accuracy_ts.index)\n",
    "    \n",
    "# Setup plot\n",
    "num_justices = justice_accuracy_ts.shape[1]\n",
    "num_years = justice_accuracy_ts.shape[0]\n",
    "f, ax = plt.subplots(figsize=(num_years / 4, num_justices / 5))\n",
    "seaborn.heatmap(justice_accuracy_ts.loc[:, justice_order].T, vmin=-0.5, vmax=0.5, ax=ax, cmap=red_green_cmap)\n",
    "\n",
    "# Setup labels\n",
    "_ = ax.set_xticks(numpy.arange(0, max_term - min_term, 1))\n",
    "_ = ax.set_xticklabels(map(str, numpy.arange(min_term, max_term, 1)), rotation=90)\n",
    "ax.set_xlabel(\"Term\")\n",
    "ax.set_ylabel(\"Justice\")\n",
    "\n",
    "# Save as PNG, PDF, and SVG\n",
    "plt.savefig(\"../figures/figure_justice_accuracy_heatmap_trailing_{0}.png\".format(file_timestamp))\n",
    "plt.savefig(\"../figures/figure_justice_accuracy_heatmap_trailing_{0}.pdf\".format(file_timestamp))\n",
    "plt.savefig(\"../figures/figure_justice_accuracy_heatmap_trailing_{0}.svg\".format(file_timestamp))"
   ]
  },
  {
   "cell_type": "code",
   "execution_count": null,
   "metadata": {
    "collapsed": false
   },
   "outputs": [],
   "source": [
    "# Setup grouping over evaluation index\n",
    "evaluation_index = (raw_data.loc[:, \"naturalCourt\"] >= 1500) & -raw_data.loc[:, \"case_outcome_disposition\"].isnull()\n",
    "justice_order = raw_data.loc[evaluation_index, :].groupby([\"justiceName\"])[\"term\"].min().sort_values().index.tolist()\n",
    "justice_accuracy_ts = raw_data.loc[evaluation_index, :].groupby([\"term\", \"justiceName\"])[\"rf_correct\"].mean().unstack() - \\\n",
    "    raw_data.loc[evaluation_index, :].groupby([\"term\", \"justiceName\"])[\"dummy_correct\"].mean().unstack()\n",
    "min_term = min(justice_accuracy_ts.index)\n",
    "max_term = max(justice_accuracy_ts.index)\n",
    "    \n",
    "# Setup plot\n",
    "num_justices = justice_accuracy_ts.shape[1]\n",
    "num_years = justice_accuracy_ts.shape[0]\n",
    "f, ax = plt.subplots(figsize=(num_years / 4, num_justices / 5))\n",
    "seaborn.heatmap(justice_accuracy_ts.loc[:, justice_order].T, vmin=-0.5, vmax=0.5, ax=ax, cmap=red_green_cmap)\n",
    "\n",
    "# Setup labels\n",
    "_ = ax.set_xticks(numpy.arange(0, max_term - min_term, 1))\n",
    "_ = ax.set_xticklabels(map(str, numpy.arange(min_term, max_term, 1)), rotation=90)\n",
    "ax.set_xlabel(\"Term\")\n",
    "ax.set_ylabel(\"Justice\")\n",
    "\n",
    "# Save as PNG, PDF, and SVG\n",
    "plt.savefig(\"../figures/figure_justice_accuracy_post_burger_heatmap_trailing_{0}.png\".format(file_timestamp))\n",
    "plt.savefig(\"../figures/figure_justice_accuracy_post_burger_heatmap_trailing_{0}.pdf\".format(file_timestamp))\n",
    "plt.savefig(\"../figures/figure_justice_accuracy_post_burger_heatmap_trailing_{0}.svg\".format(file_timestamp))"
   ]
  },
  {
   "cell_type": "markdown",
   "metadata": {},
   "source": [
    "## Performance by vote configurations"
   ]
  },
  {
   "cell_type": "code",
   "execution_count": null,
   "metadata": {
    "collapsed": false
   },
   "outputs": [],
   "source": [
    "evaluation_index = raw_data.loc[:, \"term\"].isin(term_range) & -raw_data.loc[:, \"case_outcome_disposition\"].isnull()\n",
    "case_config_data = []\n",
    "\n",
    "for docket_id, docket_data in raw_data.loc[evaluation_index, :].groupby(\"docketId\"):\n",
    "    # Avoid very irregular cases\n",
    "    if docket_data.shape[0] > 9:\n",
    "        continue\n",
    "    \n",
    "    # Setup description\n",
    "    vote_counts = docket_data.loc[:, \"justice_outcome_disposition\"].value_counts()\n",
    "    reverse_count = vote_counts.ix[1] if 1 in vote_counts.index else 0\n",
    "    affirm_count = docket_data.shape[0] - reverse_count\n",
    "    if reverse_count > affirm_count:\n",
    "        config_string = \"{0}-{1} reverse\".format(reverse_count, affirm_count)\n",
    "    else:\n",
    "        config_string = \"{0}-{1} affirm\".format(affirm_count, reverse_count)\n",
    "        \n",
    "    # Setup predicted\n",
    "    vote_counts_predicted = docket_data.loc[:, \"rf_predicted\"].value_counts()\n",
    "    reverse_count_predicted = vote_counts_predicted.ix[1] if 1 in vote_counts_predicted.index else 0\n",
    "    affirm_count_predicted = docket_data.shape[0] - reverse_count_predicted\n",
    "    if reverse_count_predicted > affirm_count_predicted:\n",
    "        config_string_predicted = \"{0}-{1} reverse\".format(reverse_count_predicted, affirm_count_predicted)\n",
    "        case_outcome_predicted = 1\n",
    "    else:\n",
    "        config_string_predicted = \"{0}-{1} affirm\".format(affirm_count_predicted, reverse_count_predicted)\n",
    "        case_outcome_predicted = 0\n",
    "        \n",
    "    # Setup dummy\n",
    "    vote_counts_dummy = docket_data.loc[:, \"dummy_predicted\"].value_counts()\n",
    "    reverse_count_dummy = vote_counts_dummy.ix[1] if 1 in vote_counts_dummy.index else 0\n",
    "    affirm_count_dummy = docket_data.shape[0] - reverse_count_dummy\n",
    "    if reverse_count_dummy > affirm_count_dummy:\n",
    "        config_string_dummy = \"{0}-{1} reverse\".format(reverse_count_dummy, affirm_count_dummy)\n",
    "        case_outcome_dummy = 1\n",
    "    else:\n",
    "        config_string_dummy = \"{0}-{1} affirm\".format(affirm_count_dummy, reverse_count_dummy)\n",
    "        case_outcome_dummy = 0\n",
    "    \n",
    "    # Print\n",
    "    case_config_data.append((docket_id, docket_data.loc[:, \"term\"].values[0], config_string, \n",
    "                             int(docket_data.loc[:, \"case_outcome_disposition\"].values[0] > 0),\n",
    "                            config_string_predicted, case_outcome_predicted,\n",
    "                            config_string_dummy, case_outcome_dummy))\n",
    "\n",
    "# Setup as DF\n",
    "case_config_df = pandas.DataFrame(case_config_data, columns=[\"docket_id\", \"term\", \n",
    "                                                             \"actual_configuration\", \"actual_outcome\", \n",
    "                                                             \"predicted_configuration\", \"predicted_outcome\",\n",
    "                                                            \"dummy_configuration\", \"dummy_outcome\"])\n",
    "case_config_df.loc[:, \"rf_correct\"] = (case_config_df[\"actual_outcome\"] == case_config_df[\"predicted_outcome\"]).astype(int)\n",
    "case_config_df.loc[:, \"dummy_correct\"] = (case_config_df[\"actual_outcome\"] == case_config_df[\"dummy_outcome\"]).astype(int)\n",
    "case_config_df.set_index(case_config_df[\"docket_id\"], inplace=True)"
   ]
  },
  {
   "cell_type": "code",
   "execution_count": null,
   "metadata": {
    "collapsed": false
   },
   "outputs": [],
   "source": [
    "all_configuration_crosstab = pandas.crosstab(case_config_df[\"actual_configuration\"], case_config_df[\"predicted_configuration\"])\n",
    "configuration_list = ['9-0 reverse',\n",
    "                      '8-1 reverse',\n",
    "                      '7-2 reverse',\n",
    "                      '6-3 reverse',\n",
    "                      '5-4 reverse',\n",
    "                      '5-4 affirm',\n",
    "                      '6-3 affirm',\n",
    "                      '7-2 affirm',\n",
    "                      '8-1 affirm',\n",
    "                      '9-0 affirm'\n",
    "                     ]\n",
    "seaborn.heatmap(all_configuration_crosstab.loc[configuration_list, configuration_list], cmap=\"BuGn\")"
   ]
  },
  {
   "cell_type": "code",
   "execution_count": null,
   "metadata": {
    "collapsed": false
   },
   "outputs": [],
   "source": [
    "# Re-shape average correct\n",
    "case_config_ts = case_config_df.groupby([\"term\", \"actual_configuration\"])[\"rf_correct\"].mean().unstack() - \\\n",
    "    case_config_df.groupby([\"term\", \"actual_configuration\"])[\"dummy_correct\"].mean().unstack()\n",
    "min_term = min(case_config_ts.index)\n",
    "max_term = max(case_config_ts.index)\n",
    "\n",
    "# Setup plot\n",
    "num_configs = case_config_ts.shape[1]\n",
    "num_years = case_config_ts.shape[0]\n",
    "f, ax = plt.subplots(figsize=(num_years / 10, num_configs / 5))\n",
    "seaborn.heatmap(case_config_ts.loc[:, configuration_list].T, cmap=red_green_cmap)\n",
    "\n",
    "# Setup labels\n",
    "_ = ax.set_xticks(numpy.arange(0, max_term - min_term, 5))\n",
    "_ = ax.set_xticklabels(map(str, numpy.arange(min_term, max_term, 5)), rotation=90)\n",
    "ax.set_xlabel(\"Term\")\n",
    "ax.set_ylabel(\"Configuration\")\n",
    "\n",
    "# Save as PNG, PDF, and SVG\n",
    "plt.savefig(\"../figures/figure_configuration_accuracy_heatmap_trailing_{0}.png\".format(file_timestamp))\n",
    "plt.savefig(\"../figures/figure_configuration_accuracy_heatmap_trailing_{0}.pdf\".format(file_timestamp))\n",
    "plt.savefig(\"../figures/figure_configuration_accuracy_heatmap_trailing_{0}.svg\".format(file_timestamp))"
   ]
  },
  {
   "cell_type": "markdown",
   "metadata": {},
   "source": [
    "## Overall Performance Comparison"
   ]
  },
  {
   "cell_type": "code",
   "execution_count": null,
   "metadata": {
    "collapsed": false
   },
   "outputs": [],
   "source": [
    "# Combine series into one yearly TS\n",
    "annual_ts = pandas.DataFrame([rf_correct_ts, dummy_correct_ts, rf_correct_case_ts, dummy_correct_case_ts]).T\n",
    "annual_ts.loc[:, \"term\"] = annual_ts.index\n",
    "annual_ts.head()\n",
    "annual_ts_melt = pandas.melt(annual_ts, id_vars=[\"term\"])\n",
    "\n",
    "# Now plot stacked\n",
    "#seaborn.barplot(x=\"term\", y=\"value\", hue=\"variable\", data=annual_ts_melt)"
   ]
  },
  {
   "cell_type": "code",
   "execution_count": null,
   "metadata": {
    "collapsed": false
   },
   "outputs": [],
   "source": [
    "# Get last step weights\n",
    "num_feature_rows = 2\n",
    "num_feature_cols = 2\n",
    "num_feature_total = num_feature_rows * num_feature_cols\n",
    "\n",
    "# Get axis data\n",
    "min_term = annual_ts_melt[\"term\"].min()\n",
    "max_term = annual_ts_melt[\"term\"].max()\n",
    "min_val = annual_ts_melt[\"value\"].min()\n",
    "max_val = annual_ts_melt[\"value\"].max()\n",
    "\n",
    "# Setup grid\n",
    "#f = plt.figure(figsize=(16, 16))\n",
    "f, ax = plt.subplots(num_feature_rows, num_feature_cols, figsize=(16,16))\n",
    "\n",
    "for i in range(annual_ts.shape[1]-1):\n",
    "    # Handle \n",
    "    row_id = int(i / num_feature_cols)\n",
    "    col_id = (i % num_feature_cols)\n",
    "    column_name = annual_ts.columns[i]\n",
    "    ts_data = annual_ts.loc[:, annual_ts.columns[i]]\n",
    "\n",
    "    # Setup title and data\n",
    "    ax[row_id, col_id].set_title(\"{0}\".format(column_name), fontsize=10)\n",
    "\n",
    "    # Plot fill and marker\n",
    "    ax[row_id, col_id].fill_between(ts_data.index, 0, ts_data, alpha=0.25, color=\"green\")\n",
    "    ax[row_id, col_id].plot(ts_data.index, ts_data, marker=\"o\", markersize=3, linewidth=2, color=\"#898989\", alpha=0.75)\n",
    "\n",
    "    # Setup axes\n",
    "    ax[row_id, col_id].set_xlim(min_term, max_term)\n",
    "    ax[row_id, col_id].set_xticks(numpy.arange(min_term, max_term, 10))\n",
    "    ax[row_id, col_id].set_xticklabels(map(str, numpy.arange(min_term, max_term, 10)), rotation=90)\n",
    "    ax[row_id, col_id].set_ylim(min_val, max_val)\n",
    "    ax[row_id, col_id].set_yticks(numpy.round(numpy.linspace(min_val, max_val, 4), 3))\n",
    "\n",
    "# Save as PNG, PDF, and SVG\n",
    "plt.savefig(\"../figures/figure_accuracy_ts_trailing_{0}.png\".format(file_timestamp))\n",
    "plt.savefig(\"../figures/figure_accuracy_ts_trailing_{0}.pdf\".format(file_timestamp))\n",
    "plt.savefig(\"../figures/figure_accuracy_ts_trailing_{0}.svg\".format(file_timestamp))"
   ]
  },
  {
   "cell_type": "code",
   "execution_count": null,
   "metadata": {
    "collapsed": false
   },
   "outputs": [],
   "source": [
    "# Get last step weights\n",
    "num_feature_rows = 2\n",
    "num_feature_cols = 1\n",
    "num_feature_total = num_feature_rows * num_feature_cols\n",
    "\n",
    "# Get axis data\n",
    "min_term = annual_ts_melt[\"term\"].min()\n",
    "max_term = annual_ts_melt[\"term\"].max()\n",
    "\n",
    "# Setup grid\n",
    "#f = plt.figure(figsize=(16, 16))\n",
    "f, ax = plt.subplots(num_feature_rows, num_feature_cols, figsize=(16,16))\n",
    "\n",
    "# Handle justice accuracy\n",
    "ax_id = 0\n",
    "column_name = \"Justice Accuracy Comparison\"\n",
    "\n",
    "# Setup title and data\n",
    "ax[ax_id].set_title(\"{0}\".format(column_name), fontsize=10)\n",
    "ts_data = annual_ts.loc[:, \"rf_correct\"] - annual_ts.loc[:, \"dummy_correct\"]\n",
    "min_val = ts_data.min()\n",
    "max_val = ts_data.max()\n",
    "\n",
    "# Plot fill and marker\n",
    "ax[ax_id].axhline(0.0, linestyle='--', color='#898989') # horizontal lines\n",
    "ax[ax_id].fill_between(ts_data.index, 0, ts_data, where=(ts_data >= 0), alpha=0.25, color=\"green\", interpolate=True)\n",
    "ax[ax_id].fill_between(ts_data.index, 0, ts_data, where=(ts_data < 0), alpha=0.25, color=\"red\", interpolate=True)\n",
    "ax[ax_id].plot(ts_data.index, ts_data, marker=\"o\", markersize=3, linewidth=2, color=\"#898989\", alpha=0.75)\n",
    "\n",
    "# Setup axes\n",
    "_ = ax[ax_id].set_xlim(min_term, max_term)\n",
    "_ = ax[ax_id].set_xticks(numpy.arange(min_term, max_term, 10))\n",
    "_ = ax[ax_id].set_xticklabels(map(str, numpy.arange(min_term, max_term, 10)), rotation=90)\n",
    "_ = ax[ax_id].set_ylim(min_val, max_val)\n",
    "_ = ax[ax_id].set_yticks(numpy.round(numpy.linspace(min_val, max_val, 4), 3))\n",
    "\n",
    "# Handle justice accuracy\n",
    "ax_id = 1\n",
    "column_name = \"Case Accuracy Comparison\"\n",
    "\n",
    "# Setup title and data\n",
    "ax[ax_id].set_title(\"{0}\".format(column_name), fontsize=10)\n",
    "ts_data = annual_ts.loc[:, \"rf_correct_case\"] - annual_ts.loc[:, \"dummy_correct_case\"]\n",
    "min_val = ts_data.min()\n",
    "max_val = ts_data.max()\n",
    "\n",
    "# Plot fill and marker\n",
    "ax[ax_id].axhline(0.0, linestyle='--', color='#898989') # horizontal lines\n",
    "ax[ax_id].fill_between(ts_data.index, 0, ts_data, where=(ts_data >= 0), alpha=0.25, color=\"green\", interpolate=True)\n",
    "ax[ax_id].fill_between(ts_data.index, 0, ts_data, where=(ts_data < 0), alpha=0.25, color=\"red\", interpolate=True)\n",
    "ax[ax_id].plot(ts_data.index, ts_data, marker=\"o\", markersize=3, linewidth=2, color=\"#898989\", alpha=0.75)\n",
    "\n",
    "# Setup axes\n",
    "_ = ax[ax_id].set_xlim(min_term, max_term)\n",
    "_ = ax[ax_id].set_xticks(numpy.arange(min_term, max_term, 10))\n",
    "_ = ax[ax_id].set_xticklabels(map(str, numpy.arange(min_term, max_term, 10)), rotation=90)\n",
    "_ = ax[ax_id].set_ylim(min_val, max_val)\n",
    "_ = ax[ax_id].set_yticks(numpy.round(numpy.linspace(min_val, max_val, 4), 3))\n",
    "\n",
    "# Save as PNG, PDF, and SVG\n",
    "plt.savefig(\"../figures/figure_accuracy_comparison_trailing_{0}.png\".format(file_timestamp))\n",
    "plt.savefig(\"../figures/figure_accuracy_comparison_trailing_{0}.pdf\".format(file_timestamp))\n",
    "plt.savefig(\"../figures/figure_accuracy_comparison_trailing_{0}.svg\".format(file_timestamp))"
   ]
  },
  {
   "cell_type": "markdown",
   "metadata": {},
   "source": [
    "## Tree Visualizations"
   ]
  },
  {
   "cell_type": "code",
   "execution_count": null,
   "metadata": {
    "collapsed": false
   },
   "outputs": [],
   "source": [
    "# Imports\n",
    "import os\n",
    "import pandas\n",
    "from IPython.display import Image\n",
    "\n",
    "# Visualize tree\n",
    "sklearn.tree.export_graphviz(m.estimators_[0], max_depth=4, feature_names=feature_df.columns, filled=True, proportion=True, rounded=True)\n",
    "os.system('dot -Tpng tree.dot -O')\n",
    "Image(filename='tree.dot.png')"
   ]
  },
  {
   "cell_type": "code",
   "execution_count": null,
   "metadata": {
    "collapsed": false
   },
   "outputs": [],
   "source": [
    "# Imports\n",
    "import os\n",
    "import pandas\n",
    "from IPython.display import Image\n",
    "\n",
    "# Visualize tree\n",
    "sklearn.tree.export_graphviz(m.estimators_[1], max_depth=4, feature_names=feature_df.columns, filled=True, proportion=True, rounded=True)\n",
    "os.system('dot -Tpng tree.dot -O')\n",
    "Image(filename='tree.dot.png')"
   ]
  },
  {
   "cell_type": "code",
   "execution_count": null,
   "metadata": {
    "collapsed": false
   },
   "outputs": [],
   "source": [
    "# Imports\n",
    "import os\n",
    "import pandas\n",
    "from IPython.display import Image\n",
    "\n",
    "# Visualize tree\n",
    "sklearn.tree.export_graphviz(m.estimators_[2], max_depth=4, feature_names=feature_df.columns, filled=True, proportion=True, rounded=True)\n",
    "os.system('dot -Tpng tree.dot -O')\n",
    "Image(filename='tree.dot.png')"
   ]
  },
  {
   "cell_type": "code",
   "execution_count": null,
   "metadata": {
    "collapsed": true
   },
   "outputs": [],
   "source": []
  }
 ],
 "metadata": {
  "kernelspec": {
   "display_name": "Python 3",
   "language": "python",
   "name": "python3"
  },
  "language_info": {
   "codemirror_mode": {
    "name": "ipython",
    "version": 3
   },
   "file_extension": ".py",
   "mimetype": "text/x-python",
   "name": "python",
   "nbconvert_exporter": "python",
   "pygments_lexer": "ipython3",
   "version": "3.4.3"
  }
 },
 "nbformat": 4,
 "nbformat_minor": 0
}
